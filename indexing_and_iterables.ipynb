{
 "cells": [
  {
   "cell_type": "markdown",
   "id": "cbde73f4-c169-4339-8317-2e61a7f630b7",
   "metadata": {},
   "source": [
    "**Content under Creative Commons Attribution license CC-BY 4.0; Code under BSD 3-Clause License © 2021 J. E. Guyer**\n",
    "\n",
    "# ENMA165 Homework: Iterables (100 points total)\n",
    "\n",
    "Submit your solutions in the cells of this notebook as a **pull request**.\n",
    "\n",
    "Answers will be scored on correctness, conciseness, and descriptive variable names. Comments which help clarify the code are encouraged; comments which are redundant to the code are not.\n",
    "\n",
    "Use tab-completion and other forms of Python introspection to identify the functions and methods you need, what arguments they take, and what values they return."
   ]
  },
  {
   "cell_type": "markdown",
   "id": "b8ff9855-ad88-4dc7-b470-bb74924b4450",
   "metadata": {},
   "source": [
    "## Q1 (20 points)\n",
    "\n",
    "Using the `enumerate()` command, fill in the blanks in the next cell to produce the ouput:\n",
    "```\n",
    "0: apple\n",
    "1: banana\n",
    "2: canteloupe\n",
    "3: durian\n",
    "```"
   ]
  },
  {
   "cell_type": "code",
   "execution_count": 24,
   "id": "dcde761e-08b9-46fc-ad67-df2be60adb7d",
   "metadata": {},
   "outputs": [
    {
     "name": "stdout",
     "output_type": "stream",
     "text": [
      "0: apple\n",
      "1: banana\n",
      "2: canteloupe\n",
      "3: durian\n"
     ]
    }
   ],
   "source": [
    "a = [\"apple\", \"banana\", \"canteloupe\", \"durian\"]\n",
    "\n",
    "for i, fruit in enumerate(a):\n",
    "    print(f\"{i}: {fruit}\")"
   ]
  },
  {
   "cell_type": "markdown",
   "id": "0aee09cf-f60c-450a-adbb-e8e421f548ed",
   "metadata": {},
   "source": [
    "## Q2 (20 pts)\n",
    "\n",
    "Fill in the blanks in the next cell to produce the ouput:\n",
    "```\n",
    "The value of apple is 1.414\n",
    "The value of banana is 1.618\n",
    "The value of canteloupe is 2.718\n",
    "The value of durian is 3.142\n",
    "```\n",
    "\n",
    "**note:** The lines may be in a different order"
   ]
  },
  {
   "cell_type": "code",
   "execution_count": 25,
   "id": "d53e0f56-dfe9-4a09-8bd3-5509d8b1456b",
   "metadata": {},
   "outputs": [
    {
     "name": "stdout",
     "output_type": "stream",
     "text": [
      "The value of apple is 1.414\n",
      "The value of banana is 1.618\n",
      "The value of canteloupe is 2.718\n",
      "The value of durian is 3.142\n"
     ]
    }
   ],
   "source": [
    "d = {\"apple\": 1.414, \"banana\": 1.618, \"canteloupe\": 2.718, \"durian\": 3.142}\n",
    "\n",
    "for fruit, number in d.items():\n",
    "    print(f\"The value of {fruit} is {number}\")"
   ]
  },
  {
   "cell_type": "markdown",
   "id": "153c8daf-e16a-4a7a-8bb0-a59a6f67cd34",
   "metadata": {},
   "source": [
    "## Q3 (20 pts)\n",
    "\n",
    "Using the `zip()` command, fill in the blanks in the next cell to produce the ouput:\n",
    "```\n",
    "fruit: apple, number: 1.414, valid: True\n",
    "fruit: banana, number: 1.618, valid: False\n",
    "fruit: canteloupe, number: 2.718, valid: False\n",
    "fruit: durian, number: 3.142, valid: True\n",
    "```"
   ]
  },
  {
   "cell_type": "code",
   "execution_count": 26,
   "id": "fbe30685-89cf-4128-9b14-a45f5bafc277",
   "metadata": {},
   "outputs": [
    {
     "name": "stdout",
     "output_type": "stream",
     "text": [
      "fruit: apple, number: 1.414, valid: True\n",
      "fruit: banana, number: 1.618, valid: False\n",
      "fruit: canteloupe, number: 2.718, valid: False\n",
      "fruit: durian, number: 3.142, valid: True\n"
     ]
    }
   ],
   "source": [
    "a = [\"apple\", \"banana\", \"canteloupe\", \"durian\"]\n",
    "b = [1.414, 1.618, 2.718, 3.142]\n",
    "c = [True, False, False, True]\n",
    "\n",
    "for fruit, number, test in zip(a, b, c):\n",
    "    print(f\"fruit: {fruit}, number: {number}, valid: {test}\")"
   ]
  },
  {
   "cell_type": "markdown",
   "id": "261f2b06-8903-487d-838d-eb6ed0a63959",
   "metadata": {},
   "source": [
    "## Q4 (20 pts)\n",
    "\n",
    "Fill in the blanks in the next cell to produce the ouput:\n",
    "```\n",
    "0: The value of apple is 1.414\n",
    "1: The value of banana is 1.618\n",
    "2: The value of canteloupe is 2.718\n",
    "3: The value of durian is 3.142\n",
    "```"
   ]
  },
  {
   "cell_type": "code",
   "execution_count": 27,
   "id": "a8f521eb-547f-4de2-98f1-d91c8128482f",
   "metadata": {},
   "outputs": [
    {
     "name": "stdout",
     "output_type": "stream",
     "text": [
      "0: The value of apple is 1.414\n",
      "1: The value of banana is 1.618\n",
      "2: The value of canteloupe is 2.718\n",
      "3: The value of durian is 3.142\n"
     ]
    }
   ],
   "source": [
    "import pandas as pd\n",
    "\n",
    "df = pd.DataFrame({\"fruit\": [\"apple\", \"banana\", \"canteloupe\", \"durian\"],\n",
    "                   \"transcendental number\": [1.414, 1.618, 2.718, 3.142],\n",
    "                   \"valid\": [True, False, False, True]})\n",
    "\n",
    "for i, row in df.iterrows():\n",
    "    print(f\"{i}: The value of {row['fruit']} is {row['transcendental number']}\")"
   ]
  },
  {
   "cell_type": "markdown",
   "id": "cf088a52-750f-49fb-8575-5f7165ceff4d",
   "metadata": {},
   "source": [
    "## Q5 (20 pts)\n",
    "\n",
    "Fill in the blanks in the next cell to produce the ouput:\n",
    "```\n",
    "0: The value of apple is 1.414\n",
    "3: The value of durian is 3.142\n",
    "```"
   ]
  },
  {
   "cell_type": "code",
   "execution_count": 28,
   "id": "87b773cd-da50-4513-ace9-097fa527691b",
   "metadata": {},
   "outputs": [
    {
     "name": "stdout",
     "output_type": "stream",
     "text": [
      "0: The value of apple is 1.414\n",
      "3: The value of durian is 3.142\n"
     ]
    }
   ],
   "source": [
    "import pandas as pd\n",
    "\n",
    "df = pd.DataFrame({\"fruit\": [\"apple\", \"banana\", \"canteloupe\", \"durian\"],\n",
    "                   \"transcendental number\": [1.414, 1.618, 2.718, 3.142],\n",
    "                   \"valid\": [True, False, False, True]})\n",
    "\n",
    "for i, row in df[df[\"valid\"]].iterrows():\n",
    "    print(f\"{i}: The value of {row['fruit']} is {row['transcendental number']}\")"
   ]
  },
  {
   "cell_type": "code",
   "execution_count": null,
   "id": "4e9ae4f7-f2f0-4239-bce6-a0a3db26ddd1",
   "metadata": {},
   "outputs": [],
   "source": []
  }
 ],
 "metadata": {
  "kernelspec": {
   "display_name": "Python 3",
   "language": "python",
   "name": "python3"
  },
  "language_info": {
   "codemirror_mode": {
    "name": "ipython",
    "version": 3
   },
   "file_extension": ".py",
   "mimetype": "text/x-python",
   "name": "python",
   "nbconvert_exporter": "python",
   "pygments_lexer": "ipython3",
   "version": "3.8.8"
  }
 },
 "nbformat": 4,
 "nbformat_minor": 5
}
